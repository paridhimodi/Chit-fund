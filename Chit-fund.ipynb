{
 "cells": [
  {
   "cell_type": "markdown",
   "metadata": {},
   "source": [
    "# Part -A\n",
    "## Problem statement\n",
    "\n",
    "A chit fund has 25 members. Each month they contribute Rs 2000 each. End of the month, the\n",
    "person who bids the lowest for the corpus, gets his bid. The group organizer gets paid a fixed\n",
    "commission of Rs 2500 each month (5% of 25*2000).It is deducted from the bid winner's\n",
    "corpus. The remaining amount is distributed among all the 25 customers equally.Enclosed\n",
    "excel has the table with cashflows for each month.\n",
    "\n",
    "Task :\n",
    "\n",
    "* What is the Annualized Return of the person who bids in the last month ?\n",
    "* What is the Annualized Return of the person who bids in the first month ?\n",
    "* Write an R/Python script which calculates the annualized return of chit fund participant ?\n",
    "\n",
    "Show the Return % for each month's bid winner.\n"
   ]
  },
  {
   "cell_type": "markdown",
   "metadata": {},
   "source": [
    "\n",
    "Let's suppose :\n",
    "\n",
    "**Number of members = 25**\n",
    "\n",
    "**Rs to be contributed by each person = 2000**\n",
    "\n",
    "**Amount collected each month = amount contributed * number of menbers =  25*2000 = 50,000**\n",
    "\n",
    "The commision is always deducted from the amount given to the bid winner\n",
    "\n",
    "Let's suppose first **bid's winner won = Rs 40,000** from which **organizer's commission= Rs 2500**\n",
    "\n",
    "**Amount bid's winner gets = Amount won - organizer's commission = 40,000-2,500 = Rs 37.500**\n",
    "\n",
    "The ammount left is considered as devident(profit) and that amount is distributed among each member in the next month.\n",
    "\n",
    "**Amount distributed between each member (devident)= (Total collected amount - Won ammont) / Number of members =  (50,000-40,000)/25 = Rs 400**\n",
    "\n",
    "This means in the next month whoever wins will get his win ammont as well as the profit of the last month\n",
    "\n",
    "This means \n",
    "**Total amount recived to the winner of that month = Amount bid's winner gets + chit profit**\n",
    "\n",
    "\n",
    "**The winner is not allowed to bid again , but has to continue to pay monthly**\n",
    "\n",
    "Memebers are invited every month for 25(number of members) consicutive months and the chit ammount is given to the lowest bidder till every bidder gets the chit ammount once\n"
   ]
  },
  {
   "cell_type": "code",
   "execution_count": 67,
   "metadata": {},
   "outputs": [
    {
     "data": {
      "text/html": [
       "<div>\n",
       "<style scoped>\n",
       "    .dataframe tbody tr th:only-of-type {\n",
       "        vertical-align: middle;\n",
       "    }\n",
       "\n",
       "    .dataframe tbody tr th {\n",
       "        vertical-align: top;\n",
       "    }\n",
       "\n",
       "    .dataframe thead th {\n",
       "        text-align: right;\n",
       "    }\n",
       "</style>\n",
       "<table border=\"1\" class=\"dataframe\">\n",
       "  <thead>\n",
       "    <tr style=\"text-align: right;\">\n",
       "      <th></th>\n",
       "      <th>Month</th>\n",
       "      <th>Contribution</th>\n",
       "      <th>Amount won by the bidder</th>\n",
       "      <th>Chit fund organizer commission</th>\n",
       "      <th>Net amount recd by Bid winner</th>\n",
       "      <th>Amount returned to everyone in the group</th>\n",
       "    </tr>\n",
       "  </thead>\n",
       "  <tbody>\n",
       "    <tr>\n",
       "      <th>0</th>\n",
       "      <td>Month</td>\n",
       "      <td>Contribution</td>\n",
       "      <td>Amount won by the bidder</td>\n",
       "      <td>Chit fund organizer commission</td>\n",
       "      <td>Net amount recd by Bid winner</td>\n",
       "      <td>Amount returned to everyone in the group</td>\n",
       "    </tr>\n",
       "    <tr>\n",
       "      <th>1</th>\n",
       "      <td>1</td>\n",
       "      <td>2000</td>\n",
       "      <td>40000</td>\n",
       "      <td>2500</td>\n",
       "      <td>37500</td>\n",
       "      <td>400</td>\n",
       "    </tr>\n",
       "    <tr>\n",
       "      <th>2</th>\n",
       "      <td>2</td>\n",
       "      <td>2000</td>\n",
       "      <td>42000</td>\n",
       "      <td>2500</td>\n",
       "      <td>39500</td>\n",
       "      <td>320</td>\n",
       "    </tr>\n",
       "    <tr>\n",
       "      <th>3</th>\n",
       "      <td>3</td>\n",
       "      <td>2000</td>\n",
       "      <td>45000</td>\n",
       "      <td>2500</td>\n",
       "      <td>42500</td>\n",
       "      <td>200</td>\n",
       "    </tr>\n",
       "    <tr>\n",
       "      <th>4</th>\n",
       "      <td>4</td>\n",
       "      <td>2000</td>\n",
       "      <td>48000</td>\n",
       "      <td>2500</td>\n",
       "      <td>45500</td>\n",
       "      <td>80</td>\n",
       "    </tr>\n",
       "  </tbody>\n",
       "</table>\n",
       "</div>"
      ],
      "text/plain": [
       "0  Month  Contribution  Amount won by the bidder  \\\n",
       "0  Month  Contribution  Amount won by the bidder   \n",
       "1      1          2000                     40000   \n",
       "2      2          2000                     42000   \n",
       "3      3          2000                     45000   \n",
       "4      4          2000                     48000   \n",
       "\n",
       "0  Chit fund organizer commission  Net amount recd by Bid winner  \\\n",
       "0  Chit fund organizer commission  Net amount recd by Bid winner   \n",
       "1                            2500                          37500   \n",
       "2                            2500                          39500   \n",
       "3                            2500                          42500   \n",
       "4                            2500                          45500   \n",
       "\n",
       "0  Amount returned to everyone in the group  \n",
       "0  Amount returned to everyone in the group  \n",
       "1                                       400  \n",
       "2                                       320  \n",
       "3                                       200  \n",
       "4                                        80  "
      ]
     },
     "execution_count": 67,
     "metadata": {},
     "output_type": "execute_result"
    }
   ],
   "source": [
    "import pandas as pd\n",
    "\n",
    "df = pd.read_excel('Exercise Data.xlsx', index_col=False)\n",
    "df.columns = df.iloc[0]\n",
    "\n",
    "df.head()"
   ]
  },
  {
   "cell_type": "code",
   "execution_count": 68,
   "metadata": {},
   "outputs": [
    {
     "data": {
      "text/html": [
       "<div>\n",
       "<style scoped>\n",
       "    .dataframe tbody tr th:only-of-type {\n",
       "        vertical-align: middle;\n",
       "    }\n",
       "\n",
       "    .dataframe tbody tr th {\n",
       "        vertical-align: top;\n",
       "    }\n",
       "\n",
       "    .dataframe thead th {\n",
       "        text-align: right;\n",
       "    }\n",
       "</style>\n",
       "<table border=\"1\" class=\"dataframe\">\n",
       "  <thead>\n",
       "    <tr style=\"text-align: right;\">\n",
       "      <th></th>\n",
       "      <th>Month</th>\n",
       "      <th>Contribution</th>\n",
       "      <th>Amount won by the bidder</th>\n",
       "      <th>Chit fund organizer commission</th>\n",
       "      <th>Net amount recd by Bid winner</th>\n",
       "      <th>Amount returned to everyone in the group</th>\n",
       "    </tr>\n",
       "  </thead>\n",
       "  <tbody>\n",
       "    <tr>\n",
       "      <th>0</th>\n",
       "      <td>1</td>\n",
       "      <td>2000</td>\n",
       "      <td>40000</td>\n",
       "      <td>2500</td>\n",
       "      <td>37500</td>\n",
       "      <td>400</td>\n",
       "    </tr>\n",
       "    <tr>\n",
       "      <th>1</th>\n",
       "      <td>2</td>\n",
       "      <td>2000</td>\n",
       "      <td>42000</td>\n",
       "      <td>2500</td>\n",
       "      <td>39500</td>\n",
       "      <td>320</td>\n",
       "    </tr>\n",
       "    <tr>\n",
       "      <th>2</th>\n",
       "      <td>3</td>\n",
       "      <td>2000</td>\n",
       "      <td>45000</td>\n",
       "      <td>2500</td>\n",
       "      <td>42500</td>\n",
       "      <td>200</td>\n",
       "    </tr>\n",
       "    <tr>\n",
       "      <th>3</th>\n",
       "      <td>4</td>\n",
       "      <td>2000</td>\n",
       "      <td>48000</td>\n",
       "      <td>2500</td>\n",
       "      <td>45500</td>\n",
       "      <td>80</td>\n",
       "    </tr>\n",
       "    <tr>\n",
       "      <th>4</th>\n",
       "      <td>5</td>\n",
       "      <td>2000</td>\n",
       "      <td>40000</td>\n",
       "      <td>2500</td>\n",
       "      <td>37500</td>\n",
       "      <td>400</td>\n",
       "    </tr>\n",
       "  </tbody>\n",
       "</table>\n",
       "</div>"
      ],
      "text/plain": [
       "0 Month Contribution Amount won by the bidder Chit fund organizer commission  \\\n",
       "0     1         2000                    40000                           2500   \n",
       "1     2         2000                    42000                           2500   \n",
       "2     3         2000                    45000                           2500   \n",
       "3     4         2000                    48000                           2500   \n",
       "4     5         2000                    40000                           2500   \n",
       "\n",
       "0 Net amount recd by Bid winner Amount returned to everyone in the group  \n",
       "0                         37500                                      400  \n",
       "1                         39500                                      320  \n",
       "2                         42500                                      200  \n",
       "3                         45500                                       80  \n",
       "4                         37500                                      400  "
      ]
     },
     "execution_count": 68,
     "metadata": {},
     "output_type": "execute_result"
    }
   ],
   "source": [
    "df.drop(0, inplace=True)\n",
    "df.reset_index(drop=True, inplace=True)\n",
    "df.head()"
   ]
  },
  {
   "cell_type": "code",
   "execution_count": 69,
   "metadata": {},
   "outputs": [
    {
     "data": {
      "text/plain": [
       "[0,\n",
       " 400,\n",
       " 720,\n",
       " 920,\n",
       " 1000,\n",
       " 1400,\n",
       " 1720,\n",
       " 2000,\n",
       " 2240,\n",
       " 2640,\n",
       " 2960,\n",
       " 3160,\n",
       " 3240,\n",
       " 3640,\n",
       " 3960,\n",
       " 4240,\n",
       " 4520,\n",
       " 4880,\n",
       " 5200,\n",
       " 5400,\n",
       " 5600,\n",
       " 5840,\n",
       " 6000,\n",
       " 6120,\n",
       " 6200]"
      ]
     },
     "execution_count": 69,
     "metadata": {},
     "output_type": "execute_result"
    }
   ],
   "source": [
    "list=[]\n",
    "col = df['Amount returned to everyone in the group']\n",
    "col\n",
    "\n",
    "sum = 0\n",
    "list.append(0)\n",
    "for num in col:\n",
    "    sum =  sum + int(num)\n",
    "    list.append(sum)\n",
    "\n",
    "new_list = list[:25]\n",
    "new_list"
   ]
  },
  {
   "cell_type": "code",
   "execution_count": 70,
   "metadata": {},
   "outputs": [
    {
     "data": {
      "text/html": [
       "<div>\n",
       "<style scoped>\n",
       "    .dataframe tbody tr th:only-of-type {\n",
       "        vertical-align: middle;\n",
       "    }\n",
       "\n",
       "    .dataframe tbody tr th {\n",
       "        vertical-align: top;\n",
       "    }\n",
       "\n",
       "    .dataframe thead th {\n",
       "        text-align: right;\n",
       "    }\n",
       "</style>\n",
       "<table border=\"1\" class=\"dataframe\">\n",
       "  <thead>\n",
       "    <tr style=\"text-align: right;\">\n",
       "      <th></th>\n",
       "      <th>Month</th>\n",
       "      <th>Contribution</th>\n",
       "      <th>Amount won by the bidder</th>\n",
       "      <th>Chit fund organizer commission</th>\n",
       "      <th>Net amount recd by Bid winner</th>\n",
       "      <th>Amount returned to everyone in the group</th>\n",
       "      <th>profit of previous months</th>\n",
       "      <th>Total_anualized_devident</th>\n",
       "    </tr>\n",
       "  </thead>\n",
       "  <tbody>\n",
       "    <tr>\n",
       "      <th>0</th>\n",
       "      <td>1</td>\n",
       "      <td>2000</td>\n",
       "      <td>40000</td>\n",
       "      <td>2500</td>\n",
       "      <td>37500</td>\n",
       "      <td>400</td>\n",
       "      <td>0</td>\n",
       "      <td>6200</td>\n",
       "    </tr>\n",
       "    <tr>\n",
       "      <th>1</th>\n",
       "      <td>2</td>\n",
       "      <td>2000</td>\n",
       "      <td>42000</td>\n",
       "      <td>2500</td>\n",
       "      <td>39500</td>\n",
       "      <td>320</td>\n",
       "      <td>400</td>\n",
       "      <td>6200</td>\n",
       "    </tr>\n",
       "    <tr>\n",
       "      <th>2</th>\n",
       "      <td>3</td>\n",
       "      <td>2000</td>\n",
       "      <td>45000</td>\n",
       "      <td>2500</td>\n",
       "      <td>42500</td>\n",
       "      <td>200</td>\n",
       "      <td>720</td>\n",
       "      <td>6200</td>\n",
       "    </tr>\n",
       "    <tr>\n",
       "      <th>3</th>\n",
       "      <td>4</td>\n",
       "      <td>2000</td>\n",
       "      <td>48000</td>\n",
       "      <td>2500</td>\n",
       "      <td>45500</td>\n",
       "      <td>80</td>\n",
       "      <td>920</td>\n",
       "      <td>6200</td>\n",
       "    </tr>\n",
       "    <tr>\n",
       "      <th>4</th>\n",
       "      <td>5</td>\n",
       "      <td>2000</td>\n",
       "      <td>40000</td>\n",
       "      <td>2500</td>\n",
       "      <td>37500</td>\n",
       "      <td>400</td>\n",
       "      <td>1000</td>\n",
       "      <td>6200</td>\n",
       "    </tr>\n",
       "  </tbody>\n",
       "</table>\n",
       "</div>"
      ],
      "text/plain": [
       "0 Month Contribution Amount won by the bidder Chit fund organizer commission  \\\n",
       "0     1         2000                    40000                           2500   \n",
       "1     2         2000                    42000                           2500   \n",
       "2     3         2000                    45000                           2500   \n",
       "3     4         2000                    48000                           2500   \n",
       "4     5         2000                    40000                           2500   \n",
       "\n",
       "0 Net amount recd by Bid winner Amount returned to everyone in the group  \\\n",
       "0                         37500                                      400   \n",
       "1                         39500                                      320   \n",
       "2                         42500                                      200   \n",
       "3                         45500                                       80   \n",
       "4                         37500                                      400   \n",
       "\n",
       "0  profit of previous months  Total_anualized_devident  \n",
       "0                          0                      6200  \n",
       "1                        400                      6200  \n",
       "2                        720                      6200  \n",
       "3                        920                      6200  \n",
       "4                       1000                      6200  "
      ]
     },
     "execution_count": 70,
     "metadata": {},
     "output_type": "execute_result"
    }
   ],
   "source": [
    "#creating a new column with the profit of previous months\n",
    "df['profit of previous months']=new_list\n",
    "\n",
    "# Amount returned to everyone in the group at the end of the commitee\n",
    "df['Total_anualized_devident'] = df['Amount returned to everyone in the group'].sum()\n",
    "\n",
    "df.head()"
   ]
  },
  {
   "cell_type": "code",
   "execution_count": 76,
   "metadata": {},
   "outputs": [],
   "source": [
    "# Total ammount recived by bid winner till that month will be the winning ammount of this month and profits of all the previous months\n",
    "df['Total amount returned to Bid Winner'] = df.apply(lambda x: x['Net amount recd by Bid winner'] + x['profit of previous months'], axis=1)\n",
    "\n",
    "# Total anualized Return = Net amount recived by the bidder + Total_anaualized_devident\n",
    "df['Total anualized Return'] = df['Net amount recd by Bid winner'] + df['Total_anualized_devident']"
   ]
  },
  {
   "cell_type": "code",
   "execution_count": 91,
   "metadata": {},
   "outputs": [
    {
     "data": {
      "text/html": [
       "<div>\n",
       "<style scoped>\n",
       "    .dataframe tbody tr th:only-of-type {\n",
       "        vertical-align: middle;\n",
       "    }\n",
       "\n",
       "    .dataframe tbody tr th {\n",
       "        vertical-align: top;\n",
       "    }\n",
       "\n",
       "    .dataframe thead th {\n",
       "        text-align: right;\n",
       "    }\n",
       "</style>\n",
       "<table border=\"1\" class=\"dataframe\">\n",
       "  <thead>\n",
       "    <tr style=\"text-align: right;\">\n",
       "      <th></th>\n",
       "      <th>Month</th>\n",
       "      <th>Contribution</th>\n",
       "      <th>Amount won by the bidder</th>\n",
       "      <th>Chit fund organizer commission</th>\n",
       "      <th>Net amount recd by Bid winner</th>\n",
       "      <th>Amount returned to everyone in the group</th>\n",
       "      <th>profit of previous months</th>\n",
       "      <th>Total_anualized_devident</th>\n",
       "      <th>Total amount returned to Bid Winner</th>\n",
       "      <th>Return % for each month's bid winner</th>\n",
       "      <th>Total anualized Return</th>\n",
       "    </tr>\n",
       "  </thead>\n",
       "  <tbody>\n",
       "    <tr>\n",
       "      <th>0</th>\n",
       "      <td>1</td>\n",
       "      <td>2000</td>\n",
       "      <td>40000</td>\n",
       "      <td>2500</td>\n",
       "      <td>37500</td>\n",
       "      <td>400</td>\n",
       "      <td>0</td>\n",
       "      <td>6200</td>\n",
       "      <td>37500</td>\n",
       "      <td>87.4</td>\n",
       "      <td>43700</td>\n",
       "    </tr>\n",
       "    <tr>\n",
       "      <th>1</th>\n",
       "      <td>2</td>\n",
       "      <td>2000</td>\n",
       "      <td>42000</td>\n",
       "      <td>2500</td>\n",
       "      <td>39500</td>\n",
       "      <td>320</td>\n",
       "      <td>400</td>\n",
       "      <td>6200</td>\n",
       "      <td>39900</td>\n",
       "      <td>91.4</td>\n",
       "      <td>45700</td>\n",
       "    </tr>\n",
       "    <tr>\n",
       "      <th>2</th>\n",
       "      <td>3</td>\n",
       "      <td>2000</td>\n",
       "      <td>45000</td>\n",
       "      <td>2500</td>\n",
       "      <td>42500</td>\n",
       "      <td>200</td>\n",
       "      <td>720</td>\n",
       "      <td>6200</td>\n",
       "      <td>43220</td>\n",
       "      <td>97.4</td>\n",
       "      <td>48700</td>\n",
       "    </tr>\n",
       "    <tr>\n",
       "      <th>3</th>\n",
       "      <td>4</td>\n",
       "      <td>2000</td>\n",
       "      <td>48000</td>\n",
       "      <td>2500</td>\n",
       "      <td>45500</td>\n",
       "      <td>80</td>\n",
       "      <td>920</td>\n",
       "      <td>6200</td>\n",
       "      <td>46420</td>\n",
       "      <td>103.4</td>\n",
       "      <td>51700</td>\n",
       "    </tr>\n",
       "    <tr>\n",
       "      <th>4</th>\n",
       "      <td>5</td>\n",
       "      <td>2000</td>\n",
       "      <td>40000</td>\n",
       "      <td>2500</td>\n",
       "      <td>37500</td>\n",
       "      <td>400</td>\n",
       "      <td>1000</td>\n",
       "      <td>6200</td>\n",
       "      <td>38500</td>\n",
       "      <td>87.4</td>\n",
       "      <td>43700</td>\n",
       "    </tr>\n",
       "  </tbody>\n",
       "</table>\n",
       "</div>"
      ],
      "text/plain": [
       "0 Month Contribution Amount won by the bidder Chit fund organizer commission  \\\n",
       "0     1         2000                    40000                           2500   \n",
       "1     2         2000                    42000                           2500   \n",
       "2     3         2000                    45000                           2500   \n",
       "3     4         2000                    48000                           2500   \n",
       "4     5         2000                    40000                           2500   \n",
       "\n",
       "0 Net amount recd by Bid winner Amount returned to everyone in the group  \\\n",
       "0                         37500                                      400   \n",
       "1                         39500                                      320   \n",
       "2                         42500                                      200   \n",
       "3                         45500                                       80   \n",
       "4                         37500                                      400   \n",
       "\n",
       "0  profit of previous months  Total_anualized_devident  \\\n",
       "0                          0                      6200   \n",
       "1                        400                      6200   \n",
       "2                        720                      6200   \n",
       "3                        920                      6200   \n",
       "4                       1000                      6200   \n",
       "\n",
       "0  Total amount returned to Bid Winner Return % for each month's bid winner  \\\n",
       "0                                37500                                 87.4   \n",
       "1                                39900                                 91.4   \n",
       "2                                43220                                 97.4   \n",
       "3                                46420                                103.4   \n",
       "4                                38500                                 87.4   \n",
       "\n",
       "0 Total anualized Return  \n",
       "0                  43700  \n",
       "1                  45700  \n",
       "2                  48700  \n",
       "3                  51700  \n",
       "4                  43700  "
      ]
     },
     "execution_count": 91,
     "metadata": {},
     "output_type": "execute_result"
    }
   ],
   "source": [
    "# percentage of the returned amount to the bid winner is\n",
    "df[\"Return % for each month's bid winner\"] = (df['Total anualized Return']/50000)*100\n",
    "df.head()"
   ]
  },
  {
   "cell_type": "code",
   "execution_count": 94,
   "metadata": {},
   "outputs": [
    {
     "data": {
      "text/plain": [
       "<seaborn.axisgrid.FacetGrid at 0x1b3b7e3ea60>"
      ]
     },
     "execution_count": 94,
     "metadata": {},
     "output_type": "execute_result"
    },
    {
     "data": {
      "image/png": "[encoded data removed]",
      "text/plain": [
       "<Figure size 360x360 with 1 Axes>"
      ]
     },
     "metadata": {
      "needs_background": "light"
     },
     "output_type": "display_data"
    }
   ],
   "source": [
    "import seaborn as sns\n",
    "sns.displot(df[\"Total anualized Return\"],color='black')"
   ]
  },
  {
   "cell_type": "markdown",
   "metadata": {},
   "source": [
    "This plot means maximum people got the peturn amount of 46000\n",
    "\n",
    "### What is the Annualized Return of the person who bids in the last month ?\n",
    "\n",
    "Total amount contributed in 25 months = 50,000 \n",
    "\n",
    "Money Returns= 53700rs \n",
    "i.e 107.40%"
   ]
  },
  {
   "cell_type": "code",
   "execution_count": 81,
   "metadata": {},
   "outputs": [
    {
     "data": {
      "text/plain": [
       "53700"
      ]
     },
     "execution_count": 81,
     "metadata": {},
     "output_type": "execute_result"
    }
   ],
   "source": [
    "# Anual amount returned\n",
    "df['Total anualized Return'][24]"
   ]
  },
  {
   "cell_type": "code",
   "execution_count": 82,
   "metadata": {},
   "outputs": [
    {
     "data": {
      "text/plain": [
       "107.4"
      ]
     },
     "execution_count": 82,
     "metadata": {},
     "output_type": "execute_result"
    }
   ],
   "source": [
    "# Return % for each month's bid winner  \n",
    "df[\"Return % for each month's bid winner\"][24]"
   ]
  },
  {
   "cell_type": "markdown",
   "metadata": {},
   "source": [
    "### What is the Annualized Return of the person who bids in the first month ?\n",
    "\n",
    "Total amount contributed in 25 months = 50,000\n",
    "\n",
    "Money Returns= 43700rs  i.e 87.40%"
   ]
  },
  {
   "cell_type": "code",
   "execution_count": 86,
   "metadata": {},
   "outputs": [
    {
     "data": {
      "text/plain": [
       "43700"
      ]
     },
     "execution_count": 86,
     "metadata": {},
     "output_type": "execute_result"
    }
   ],
   "source": [
    "#Anual amount returned\n",
    "df['Total anualized Return'][0]"
   ]
  },
  {
   "cell_type": "code",
   "execution_count": 87,
   "metadata": {},
   "outputs": [
    {
     "data": {
      "text/plain": [
       "87.4"
      ]
     },
     "execution_count": 87,
     "metadata": {},
     "output_type": "execute_result"
    }
   ],
   "source": [
    "# Return % for each month's bid winner\n",
    "df[\"Return % for each month's bid winner\"][0]"
   ]
  },
  {
   "cell_type": "markdown",
   "metadata": {},
   "source": [
    "### Write an R/Python script which calculates the annualized return of chit fund participant ?\n",
    "**Calculates the annualized return of chit fund participant**"
   ]
  },
  {
   "cell_type": "code",
   "execution_count": 88,
   "metadata": {},
   "outputs": [],
   "source": [
    "# Total anualized Return = Net amount recived by the bidder + Total_anaualized_devident\n",
    "df['Total anualized Return'] = df['Net amount recd by Bid winner'] + df['Total_anualized_devident']"
   ]
  },
  {
   "cell_type": "markdown",
   "metadata": {},
   "source": [
    "### Return % for each month's bid winner."
   ]
  },
  {
   "cell_type": "code",
   "execution_count": 90,
   "metadata": {},
   "outputs": [
    {
     "data": {
      "text/plain": [
       "0      87.4\n",
       "1      91.4\n",
       "2      97.4\n",
       "3     103.4\n",
       "4      87.4\n",
       "5      91.4\n",
       "6      93.4\n",
       "7      95.4\n",
       "8      87.4\n",
       "9      91.4\n",
       "10     97.4\n",
       "11    103.4\n",
       "12     87.4\n",
       "13     91.4\n",
       "14     93.4\n",
       "15     93.4\n",
       "16     89.4\n",
       "17     91.4\n",
       "18     97.4\n",
       "19     97.4\n",
       "20     95.4\n",
       "21     99.4\n",
       "22    101.4\n",
       "23    103.4\n",
       "24    107.4\n",
       "Name: Return % for each month's bid winner, dtype: object"
      ]
     },
     "execution_count": 90,
     "metadata": {},
     "output_type": "execute_result"
    }
   ],
   "source": [
    "df[\"Return % for each month's bid winner\"] = (df['Total anualized Return']/50000)*100\n",
    "df[\"Return % for each month's bid winner\"]"
   ]
  }
 ],
 "metadata": {
  "kernelspec": {
   "display_name": "Python 3",
   "language": "python",
   "name": "python3"
  },
  "language_info": {
   "codemirror_mode": {
    "name": "ipython",
    "version": 3
   },
   "file_extension": ".py",
   "mimetype": "text/x-python",
   "name": "python",
   "nbconvert_exporter": "python",
   "pygments_lexer": "ipython3",
   "version": "3.8.5"
  }
 },
 "nbformat": 4,
 "nbformat_minor": 4
}
